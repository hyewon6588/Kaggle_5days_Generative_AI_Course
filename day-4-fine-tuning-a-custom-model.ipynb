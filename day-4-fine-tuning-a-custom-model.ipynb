{
 "cells": [
  {
   "cell_type": "markdown",
   "id": "33e10962",
   "metadata": {
    "id": "b6e13eef3f5d",
    "papermill": {
     "duration": 0.009983,
     "end_time": "2024-11-25T04:47:09.230644",
     "exception": false,
     "start_time": "2024-11-25T04:47:09.220661",
     "status": "completed"
    },
    "tags": []
   },
   "source": [
    "##### Copyright 2024 Google LLC."
   ]
  },
  {
   "cell_type": "code",
   "execution_count": 1,
   "id": "5305b025",
   "metadata": {
    "cellView": "form",
    "execution": {
     "iopub.execute_input": "2024-11-25T04:47:09.250148Z",
     "iopub.status.busy": "2024-11-25T04:47:09.249487Z",
     "iopub.status.idle": "2024-11-25T04:47:09.256254Z",
     "shell.execute_reply": "2024-11-25T04:47:09.255002Z"
    },
    "id": "d6597b11df14",
    "jupyter": {
     "source_hidden": true
    },
    "papermill": {
     "duration": 0.019497,
     "end_time": "2024-11-25T04:47:09.258719",
     "exception": false,
     "start_time": "2024-11-25T04:47:09.239222",
     "status": "completed"
    },
    "tags": []
   },
   "outputs": [],
   "source": [
    "# @title Licensed under the Apache License, Version 2.0 (the \"License\");\n",
    "# you may not use this file except in compliance with the License.\n",
    "# You may obtain a copy of the License at\n",
    "#\n",
    "# https://www.apache.org/licenses/LICENSE-2.0\n",
    "#\n",
    "# Unless required by applicable law or agreed to in writing, software\n",
    "# distributed under the License is distributed on an \"AS IS\" BASIS,\n",
    "# WITHOUT WARRANTIES OR CONDITIONS OF ANY KIND, either express or implied.\n",
    "# See the License for the specific language governing permissions and\n",
    "# limitations under the License."
   ]
  },
  {
   "cell_type": "markdown",
   "id": "e2de29f2",
   "metadata": {
    "id": "4KDIFPAL2EnL",
    "papermill": {
     "duration": 0.00885,
     "end_time": "2024-11-25T04:47:09.278404",
     "exception": false,
     "start_time": "2024-11-25T04:47:09.269554",
     "status": "completed"
    },
    "tags": []
   },
   "source": [
    "# Day 4 - Fine tuning a custom model\n",
    "\n",
    "Welcome back to the Kaggle 5-day Generative AI course!\n",
    "\n",
    "In this notebook you will use the Gemini API to fine-tune a custom, task-specific model. Fine-tuning can be used for a variety of tasks from classic NLP problems like entity extraction or summarisation, to creative tasks like stylised generation. You will fine-tune a model to classify the category a piece of text (a newsgroup post) into the category it belongs to (the newsgroup name).\n",
    "\n",
    "This codelab walks you tuning a model with the API. [AI Studio](https://aistudio.google.com/app/tune) also supports creating new tuned models directly in the web UI, allowing you to quickly create and monitor models using data from Google Sheets, Drive or your own files."
   ]
  },
  {
   "cell_type": "code",
   "execution_count": 2,
   "id": "1e3a32c9",
   "metadata": {
    "execution": {
     "iopub.execute_input": "2024-11-25T04:47:09.297717Z",
     "iopub.status.busy": "2024-11-25T04:47:09.297332Z",
     "iopub.status.idle": "2024-11-25T04:47:43.183711Z",
     "shell.execute_reply": "2024-11-25T04:47:43.181912Z"
    },
    "id": "9wafTyEH1_xF",
    "papermill": {
     "duration": 33.90629,
     "end_time": "2024-11-25T04:47:43.193703",
     "exception": false,
     "start_time": "2024-11-25T04:47:09.287413",
     "status": "completed"
    },
    "tags": []
   },
   "outputs": [
    {
     "name": "stdout",
     "output_type": "stream",
     "text": [
      "Note: you may need to restart the kernel to use updated packages.\n"
     ]
    }
   ],
   "source": [
    "%pip install -U -q 'google-generativeai>=0.8.3'"
   ]
  },
  {
   "cell_type": "markdown",
   "id": "c7678a20",
   "metadata": {
    "papermill": {
     "duration": 0.008823,
     "end_time": "2024-11-25T04:47:43.211436",
     "exception": false,
     "start_time": "2024-11-25T04:47:43.202613",
     "status": "completed"
    },
    "tags": []
   },
   "source": [
    "Note that you do not have to restart the kernel."
   ]
  },
  {
   "cell_type": "code",
   "execution_count": 3,
   "id": "dcaa86d6",
   "metadata": {
    "execution": {
     "iopub.execute_input": "2024-11-25T04:47:43.232060Z",
     "iopub.status.busy": "2024-11-25T04:47:43.230845Z",
     "iopub.status.idle": "2024-11-25T04:47:44.472104Z",
     "shell.execute_reply": "2024-11-25T04:47:44.470951Z"
    },
    "id": "T0CBG9xL2PvT",
    "papermill": {
     "duration": 1.254539,
     "end_time": "2024-11-25T04:47:44.474716",
     "exception": false,
     "start_time": "2024-11-25T04:47:43.220177",
     "status": "completed"
    },
    "tags": []
   },
   "outputs": [],
   "source": [
    "import google.generativeai as genai"
   ]
  },
  {
   "cell_type": "markdown",
   "id": "35947bd5",
   "metadata": {
    "id": "P4bYX2T72ScK",
    "papermill": {
     "duration": 0.008958,
     "end_time": "2024-11-25T04:47:44.492660",
     "exception": false,
     "start_time": "2024-11-25T04:47:44.483702",
     "status": "completed"
    },
    "tags": []
   },
   "source": [
    "### Set up your API key\n",
    "\n",
    "To run the following cell, your API key must be stored it in a [Kaggle secret](https://www.kaggle.com/discussions/product-feedback/114053) named `GOOGLE_API_KEY`.\n",
    "\n",
    "If you don't already have an API key, you can grab one from [AI Studio](https://aistudio.google.com/app/apikey). You can find [detailed instructions in the docs](https://ai.google.dev/gemini-api/docs/api-key).\n",
    "\n",
    "To make the key available through Kaggle secrets, choose `Secrets` from the `Add-ons` menu and follow the instructions to add your key or enable it for this notebook."
   ]
  },
  {
   "cell_type": "code",
   "execution_count": 4,
   "id": "ccd101e7",
   "metadata": {
    "execution": {
     "iopub.execute_input": "2024-11-25T04:47:44.514153Z",
     "iopub.status.busy": "2024-11-25T04:47:44.513325Z",
     "iopub.status.idle": "2024-11-25T04:47:44.730404Z",
     "shell.execute_reply": "2024-11-25T04:47:44.729097Z"
    },
    "id": "VuJPY3GK2SLZ",
    "papermill": {
     "duration": 0.230495,
     "end_time": "2024-11-25T04:47:44.733101",
     "exception": false,
     "start_time": "2024-11-25T04:47:44.502606",
     "status": "completed"
    },
    "tags": []
   },
   "outputs": [],
   "source": [
    "from kaggle_secrets import UserSecretsClient\n",
    "\n",
    "GOOGLE_API_KEY = UserSecretsClient().get_secret(\"GOOGLE_API_KEY\")\n",
    "genai.configure(api_key=GOOGLE_API_KEY)"
   ]
  },
  {
   "cell_type": "markdown",
   "id": "556d9159",
   "metadata": {
    "id": "25b2127c2052",
    "papermill": {
     "duration": 0.008309,
     "end_time": "2024-11-25T04:47:44.750397",
     "exception": false,
     "start_time": "2024-11-25T04:47:44.742088",
     "status": "completed"
    },
    "tags": []
   },
   "source": [
    "If you received an error response along the lines of `No user secrets exist for kernel id ...`, then you need to add your API key via `Add-ons`, `Secrets` **and** enable it.\n",
    "\n",
    "![Screenshot of the checkbox to enable GOOGLE_API_KEY secret](https://storage.googleapis.com/kaggle-media/Images/5gdai_sc_3.png)"
   ]
  },
  {
   "cell_type": "markdown",
   "id": "986a5541",
   "metadata": {
    "id": "CqVA5QFO6n4z",
    "papermill": {
     "duration": 0.00805,
     "end_time": "2024-11-25T04:47:44.767257",
     "exception": false,
     "start_time": "2024-11-25T04:47:44.759207",
     "status": "completed"
    },
    "tags": []
   },
   "source": [
    "### Explore available models\n",
    "\n",
    "You will be using the [`TunedModel.create`](https://ai.google.dev/api/tuning#method:-tunedmodels.create) API method to start the fine-tuning job and create your custom model. Find a model that supports it through the [`models.list`](https://ai.google.dev/api/models#method:-models.list) endpoint. You can also find more information about tuning models in [the model tuning docs](https://ai.google.dev/gemini-api/docs/model-tuning/tutorial?lang=python)."
   ]
  },
  {
   "cell_type": "code",
   "execution_count": 5,
   "id": "ea83e613",
   "metadata": {
    "execution": {
     "iopub.execute_input": "2024-11-25T04:47:44.785631Z",
     "iopub.status.busy": "2024-11-25T04:47:44.785227Z",
     "iopub.status.idle": "2024-11-25T04:47:45.293407Z",
     "shell.execute_reply": "2024-11-25T04:47:45.292161Z"
    },
    "id": "coEacWAB6o0G",
    "papermill": {
     "duration": 0.520325,
     "end_time": "2024-11-25T04:47:45.295996",
     "exception": false,
     "start_time": "2024-11-25T04:47:44.775671",
     "status": "completed"
    },
    "tags": []
   },
   "outputs": [
    {
     "name": "stdout",
     "output_type": "stream",
     "text": [
      "models/gemini-1.0-pro-001\n",
      "models/gemini-1.5-flash-001-tuning\n"
     ]
    }
   ],
   "source": [
    "for model in genai.list_models():\n",
    "    if \"createTunedModel\" in model.supported_generation_methods:\n",
    "        print(model.name)"
   ]
  },
  {
   "cell_type": "markdown",
   "id": "93e8d978",
   "metadata": {
    "id": "peFm0w_0c1CO",
    "papermill": {
     "duration": 0.008075,
     "end_time": "2024-11-25T04:47:45.312712",
     "exception": false,
     "start_time": "2024-11-25T04:47:45.304637",
     "status": "completed"
    },
    "tags": []
   },
   "source": [
    "## Download the dataset\n",
    "\n",
    "In this activity, you will use the same newsgroups dataset that you used to train a classifier in Keras. In this example you will use a fine-tuned Gemini model to achieve the same goal.\n",
    "\n",
    "The [20 Newsgroups Text Dataset](https://scikit-learn.org/0.19/datasets/twenty_newsgroups.html) contains 18,000 newsgroups posts on 20 topics divided into training and test sets."
   ]
  },
  {
   "cell_type": "code",
   "execution_count": 6,
   "id": "b7b95901",
   "metadata": {
    "execution": {
     "iopub.execute_input": "2024-11-25T04:47:45.333035Z",
     "iopub.status.busy": "2024-11-25T04:47:45.332581Z",
     "iopub.status.idle": "2024-11-25T04:47:58.804497Z",
     "shell.execute_reply": "2024-11-25T04:47:58.803402Z"
    },
    "id": "bX_kpgnQ9b-Z",
    "papermill": {
     "duration": 13.485482,
     "end_time": "2024-11-25T04:47:58.807004",
     "exception": false,
     "start_time": "2024-11-25T04:47:45.321522",
     "status": "completed"
    },
    "tags": []
   },
   "outputs": [
    {
     "data": {
      "text/plain": [
       "['alt.atheism',\n",
       " 'comp.graphics',\n",
       " 'comp.os.ms-windows.misc',\n",
       " 'comp.sys.ibm.pc.hardware',\n",
       " 'comp.sys.mac.hardware',\n",
       " 'comp.windows.x',\n",
       " 'misc.forsale',\n",
       " 'rec.autos',\n",
       " 'rec.motorcycles',\n",
       " 'rec.sport.baseball',\n",
       " 'rec.sport.hockey',\n",
       " 'sci.crypt',\n",
       " 'sci.electronics',\n",
       " 'sci.med',\n",
       " 'sci.space',\n",
       " 'soc.religion.christian',\n",
       " 'talk.politics.guns',\n",
       " 'talk.politics.mideast',\n",
       " 'talk.politics.misc',\n",
       " 'talk.religion.misc']"
      ]
     },
     "execution_count": 6,
     "metadata": {},
     "output_type": "execute_result"
    }
   ],
   "source": [
    "from sklearn.datasets import fetch_20newsgroups\n",
    "\n",
    "newsgroups_train = fetch_20newsgroups(subset=\"train\")\n",
    "newsgroups_test = fetch_20newsgroups(subset=\"test\")\n",
    "\n",
    "# View list of class names for dataset\n",
    "newsgroups_train.target_names"
   ]
  },
  {
   "cell_type": "markdown",
   "id": "93f20026",
   "metadata": {
    "id": "ipafe6ptZFjt",
    "papermill": {
     "duration": 0.009137,
     "end_time": "2024-11-25T04:47:58.825172",
     "exception": false,
     "start_time": "2024-11-25T04:47:58.816035",
     "status": "completed"
    },
    "tags": []
   },
   "source": [
    "Here's what a single row looks like."
   ]
  },
  {
   "cell_type": "code",
   "execution_count": 7,
   "id": "3947b1e1",
   "metadata": {
    "execution": {
     "iopub.execute_input": "2024-11-25T04:47:58.844488Z",
     "iopub.status.busy": "2024-11-25T04:47:58.844079Z",
     "iopub.status.idle": "2024-11-25T04:47:58.850727Z",
     "shell.execute_reply": "2024-11-25T04:47:58.849079Z"
    },
    "id": "EtEXcdT39hCB",
    "papermill": {
     "duration": 0.019308,
     "end_time": "2024-11-25T04:47:58.853418",
     "exception": false,
     "start_time": "2024-11-25T04:47:58.834110",
     "status": "completed"
    },
    "tags": []
   },
   "outputs": [
    {
     "name": "stdout",
     "output_type": "stream",
     "text": [
      "From: lerxst@wam.umd.edu (where's my thing)\n",
      "Subject: WHAT car is this!?\n",
      "Nntp-Posting-Host: rac3.wam.umd.edu\n",
      "Organization: University of Maryland, College Park\n",
      "Lines: 15\n",
      "\n",
      " I was wondering if anyone out there could enlighten me on this car I saw\n",
      "the other day. It was a 2-door sports car, looked to be from the late 60s/\n",
      "early 70s. It was called a Bricklin. The doors were really small. In addition,\n",
      "the front bumper was separate from the rest of the body. This is \n",
      "all I know. If anyone can tellme a model name, engine specs, years\n",
      "of production, where this car is made, history, or whatever info you\n",
      "have on this funky looking car, please e-mail.\n",
      "\n",
      "Thanks,\n",
      "- IL\n",
      "   ---- brought to you by your neighborhood Lerxst ----\n",
      "\n",
      "\n",
      "\n",
      "\n",
      "\n"
     ]
    }
   ],
   "source": [
    "print(newsgroups_train.data[0])"
   ]
  },
  {
   "cell_type": "markdown",
   "id": "8151e9a5",
   "metadata": {
    "id": "03lDs1O4ZQ0-",
    "papermill": {
     "duration": 0.00896,
     "end_time": "2024-11-25T04:47:58.871324",
     "exception": false,
     "start_time": "2024-11-25T04:47:58.862364",
     "status": "completed"
    },
    "tags": []
   },
   "source": [
    "## Prepare the dataset\n",
    "\n",
    "You'll use the same pre-processing code you used for the custom model on day 2. This pre-processing removes personal information, which can be used to \"shortcut\" to known users of a forum, and formats the text to appear a bit more like regular text and less like a newsgroup post (e.g. by removing the mail headers). This normalisation allows the model to generalise to regular text and not over-depend on specific fields. If your input data is always going to be newsgroup posts, it may be helpful to leave this structure in place if they provide genuine signals."
   ]
  },
  {
   "cell_type": "code",
   "execution_count": 8,
   "id": "ffc6fb5f",
   "metadata": {
    "execution": {
     "iopub.execute_input": "2024-11-25T04:47:58.890531Z",
     "iopub.status.busy": "2024-11-25T04:47:58.890146Z",
     "iopub.status.idle": "2024-11-25T04:47:59.881154Z",
     "shell.execute_reply": "2024-11-25T04:47:59.879696Z"
    },
    "id": "IoNYTxpoZgB0",
    "papermill": {
     "duration": 1.004293,
     "end_time": "2024-11-25T04:47:59.884436",
     "exception": false,
     "start_time": "2024-11-25T04:47:58.880143",
     "status": "completed"
    },
    "tags": []
   },
   "outputs": [],
   "source": [
    "import email\n",
    "import re\n",
    "\n",
    "import pandas as pd\n",
    "\n",
    "\n",
    "def preprocess_newsgroup_row(data):\n",
    "    # Extract only the subject and body\n",
    "    msg = email.message_from_string(data)\n",
    "    text = f\"{msg['Subject']}\\n\\n{msg.get_payload()}\"\n",
    "    # Strip any remaining email addresses\n",
    "    text = re.sub(r\"[\\w\\.-]+@[\\w\\.-]+\", \"\", text)\n",
    "    # Truncate the text to fit within the input limits\n",
    "    text = text[:40000]\n",
    "\n",
    "    return text\n",
    "\n",
    "\n",
    "def preprocess_newsgroup_data(newsgroup_dataset):\n",
    "    # Put data points into dataframe\n",
    "    df = pd.DataFrame(\n",
    "        {\"Text\": newsgroup_dataset.data, \"Label\": newsgroup_dataset.target}\n",
    "    )\n",
    "    # Clean up the text\n",
    "    df[\"Text\"] = df[\"Text\"].apply(preprocess_newsgroup_row)\n",
    "    # Match label to target name index\n",
    "    df[\"Class Name\"] = df[\"Label\"].map(lambda l: newsgroup_dataset.target_names[l])\n",
    "\n",
    "    return df"
   ]
  },
  {
   "cell_type": "code",
   "execution_count": 9,
   "id": "8dd3593b",
   "metadata": {
    "execution": {
     "iopub.execute_input": "2024-11-25T04:47:59.904959Z",
     "iopub.status.busy": "2024-11-25T04:47:59.904160Z",
     "iopub.status.idle": "2024-11-25T04:48:03.791400Z",
     "shell.execute_reply": "2024-11-25T04:48:03.789905Z"
    },
    "id": "kvOsUSRWaW4g",
    "papermill": {
     "duration": 3.899858,
     "end_time": "2024-11-25T04:48:03.793815",
     "exception": false,
     "start_time": "2024-11-25T04:47:59.893957",
     "status": "completed"
    },
    "tags": []
   },
   "outputs": [
    {
     "data": {
      "text/html": [
       "<div>\n",
       "<style scoped>\n",
       "    .dataframe tbody tr th:only-of-type {\n",
       "        vertical-align: middle;\n",
       "    }\n",
       "\n",
       "    .dataframe tbody tr th {\n",
       "        vertical-align: top;\n",
       "    }\n",
       "\n",
       "    .dataframe thead th {\n",
       "        text-align: right;\n",
       "    }\n",
       "</style>\n",
       "<table border=\"1\" class=\"dataframe\">\n",
       "  <thead>\n",
       "    <tr style=\"text-align: right;\">\n",
       "      <th></th>\n",
       "      <th>Text</th>\n",
       "      <th>Label</th>\n",
       "      <th>Class Name</th>\n",
       "    </tr>\n",
       "  </thead>\n",
       "  <tbody>\n",
       "    <tr>\n",
       "      <th>0</th>\n",
       "      <td>WHAT car is this!?\\n\\n I was wondering if anyo...</td>\n",
       "      <td>7</td>\n",
       "      <td>rec.autos</td>\n",
       "    </tr>\n",
       "    <tr>\n",
       "      <th>1</th>\n",
       "      <td>SI Clock Poll - Final Call\\n\\nA fair number of...</td>\n",
       "      <td>4</td>\n",
       "      <td>comp.sys.mac.hardware</td>\n",
       "    </tr>\n",
       "    <tr>\n",
       "      <th>2</th>\n",
       "      <td>PB questions...\\n\\nwell folks, my mac plus fin...</td>\n",
       "      <td>4</td>\n",
       "      <td>comp.sys.mac.hardware</td>\n",
       "    </tr>\n",
       "    <tr>\n",
       "      <th>3</th>\n",
       "      <td>Re: Weitek P9000 ?\\n\\nRobert J.C. Kyanko () wr...</td>\n",
       "      <td>1</td>\n",
       "      <td>comp.graphics</td>\n",
       "    </tr>\n",
       "    <tr>\n",
       "      <th>4</th>\n",
       "      <td>Re: Shuttle Launch Question\\n\\nFrom article &lt;&gt;...</td>\n",
       "      <td>14</td>\n",
       "      <td>sci.space</td>\n",
       "    </tr>\n",
       "  </tbody>\n",
       "</table>\n",
       "</div>"
      ],
      "text/plain": [
       "                                                Text  Label  \\\n",
       "0  WHAT car is this!?\\n\\n I was wondering if anyo...      7   \n",
       "1  SI Clock Poll - Final Call\\n\\nA fair number of...      4   \n",
       "2  PB questions...\\n\\nwell folks, my mac plus fin...      4   \n",
       "3  Re: Weitek P9000 ?\\n\\nRobert J.C. Kyanko () wr...      1   \n",
       "4  Re: Shuttle Launch Question\\n\\nFrom article <>...     14   \n",
       "\n",
       "              Class Name  \n",
       "0              rec.autos  \n",
       "1  comp.sys.mac.hardware  \n",
       "2  comp.sys.mac.hardware  \n",
       "3          comp.graphics  \n",
       "4              sci.space  "
      ]
     },
     "execution_count": 9,
     "metadata": {},
     "output_type": "execute_result"
    }
   ],
   "source": [
    "# Apply preprocessing to training and test datasets\n",
    "df_train = preprocess_newsgroup_data(newsgroups_train)\n",
    "df_test = preprocess_newsgroup_data(newsgroups_test)\n",
    "\n",
    "df_train.head()"
   ]
  },
  {
   "cell_type": "markdown",
   "id": "0ddee2f3",
   "metadata": {
    "id": "XSKcj5WtadaR",
    "papermill": {
     "duration": 0.009345,
     "end_time": "2024-11-25T04:48:03.812905",
     "exception": false,
     "start_time": "2024-11-25T04:48:03.803560",
     "status": "completed"
    },
    "tags": []
   },
   "source": [
    "Now sample the data. You will keep 50 rows for each category for training. Note that this is even fewer than the Keras example, as this technique (parameter-efficient fine-tuning, or PEFT) updates a relatively small number of parameters and does not require training a new model or updating the large model."
   ]
  },
  {
   "cell_type": "code",
   "execution_count": 10,
   "id": "08779ab5",
   "metadata": {
    "execution": {
     "iopub.execute_input": "2024-11-25T04:48:03.833859Z",
     "iopub.status.busy": "2024-11-25T04:48:03.833455Z",
     "iopub.status.idle": "2024-11-25T04:48:03.880550Z",
     "shell.execute_reply": "2024-11-25T04:48:03.879412Z"
    },
    "id": "0t9Xu6X5akkt",
    "papermill": {
     "duration": 0.060429,
     "end_time": "2024-11-25T04:48:03.883090",
     "exception": false,
     "start_time": "2024-11-25T04:48:03.822661",
     "status": "completed"
    },
    "tags": []
   },
   "outputs": [],
   "source": [
    "def sample_data(df, num_samples, classes_to_keep):\n",
    "    # Sample rows, selecting num_samples of each Label.\n",
    "    df = (\n",
    "        df.groupby(\"Label\")[df.columns]\n",
    "        .apply(lambda x: x.sample(num_samples))\n",
    "        .reset_index(drop=True)\n",
    "    )\n",
    "\n",
    "    df = df[df[\"Class Name\"].str.contains(classes_to_keep)]\n",
    "    df[\"Class Name\"] = df[\"Class Name\"].astype(\"category\")\n",
    "\n",
    "    return df\n",
    "\n",
    "\n",
    "TRAIN_NUM_SAMPLES = 50\n",
    "TEST_NUM_SAMPLES = 10\n",
    "# Keep rec.* and sci.*\n",
    "CLASSES_TO_KEEP = \"^rec|^sci\"\n",
    "\n",
    "df_train = sample_data(df_train, TRAIN_NUM_SAMPLES, CLASSES_TO_KEEP)\n",
    "df_test = sample_data(df_test, TEST_NUM_SAMPLES, CLASSES_TO_KEEP)"
   ]
  },
  {
   "cell_type": "markdown",
   "id": "22898fdc",
   "metadata": {
    "papermill": {
     "duration": 0.008441,
     "end_time": "2024-11-25T04:48:03.900778",
     "exception": false,
     "start_time": "2024-11-25T04:48:03.892337",
     "status": "completed"
    },
    "tags": []
   },
   "source": [
    "## Evaluate baseline performance\n",
    "\n",
    "Before you start tuning a model, it's good practice to perform an evaluation on the available models to ensure you can measure how much the tuning helps.\n",
    "\n",
    "First identify a single sample row to use for visual inspection."
   ]
  },
  {
   "cell_type": "code",
   "execution_count": 11,
   "id": "0ba96557",
   "metadata": {
    "execution": {
     "iopub.execute_input": "2024-11-25T04:48:03.920371Z",
     "iopub.status.busy": "2024-11-25T04:48:03.919942Z",
     "iopub.status.idle": "2024-11-25T04:48:03.926938Z",
     "shell.execute_reply": "2024-11-25T04:48:03.925723Z"
    },
    "papermill": {
     "duration": 0.019576,
     "end_time": "2024-11-25T04:48:03.929254",
     "exception": false,
     "start_time": "2024-11-25T04:48:03.909678",
     "status": "completed"
    },
    "tags": []
   },
   "outputs": [
    {
     "name": "stdout",
     "output_type": "stream",
     "text": [
      "Need info on 88-89 Bonneville\n",
      "\n",
      "\n",
      " I am a little confused on all of the models of the 88-89 bonnevilles.\n",
      "I have heard of the LE SE LSE SSE SSEI. Could someone tell me the\n",
      "differences are far as features or performance. I am also curious to\n",
      "know what the book value is for prefereably the 89 model. And how much\n",
      "less than book value can you usually get them for. In other words how\n",
      "much are they in demand this time of year. I have heard that the mid-spring\n",
      "early summer is the best time to buy.\n",
      "\n",
      "\t\t\tNeil Gandler\n",
      "\n",
      "---\n",
      "Label: rec.autos\n"
     ]
    }
   ],
   "source": [
    "sample_idx = 0\n",
    "sample_row = preprocess_newsgroup_row(newsgroups_test.data[sample_idx])\n",
    "sample_label = newsgroups_test.target_names[newsgroups_test.target[sample_idx]]\n",
    "\n",
    "print(sample_row)\n",
    "print('---')\n",
    "print('Label:', sample_label)"
   ]
  },
  {
   "cell_type": "markdown",
   "id": "131c7086",
   "metadata": {
    "papermill": {
     "duration": 0.00853,
     "end_time": "2024-11-25T04:48:03.947796",
     "exception": false,
     "start_time": "2024-11-25T04:48:03.939266",
     "status": "completed"
    },
    "tags": []
   },
   "source": [
    "Passing the text directly in as a prompt does not yield the desired results. The model will attempt to respond to the message."
   ]
  },
  {
   "cell_type": "code",
   "execution_count": 12,
   "id": "b89a3b57",
   "metadata": {
    "execution": {
     "iopub.execute_input": "2024-11-25T04:48:03.968265Z",
     "iopub.status.busy": "2024-11-25T04:48:03.967102Z",
     "iopub.status.idle": "2024-11-25T04:48:08.236593Z",
     "shell.execute_reply": "2024-11-25T04:48:08.235227Z"
    },
    "papermill": {
     "duration": 4.282598,
     "end_time": "2024-11-25T04:48:08.239457",
     "exception": false,
     "start_time": "2024-11-25T04:48:03.956859",
     "status": "completed"
    },
    "tags": []
   },
   "outputs": [
    {
     "name": "stdout",
     "output_type": "stream",
     "text": [
      "You are right, the 88-89 Bonneville model lineup can get confusing! Here's a breakdown of the different trims, their features, and some insights into value:\n",
      "\n",
      "**Bonneville Trim Levels Explained**\n",
      "\n",
      "* **LE (Luxury Edition):**  The base model. It offered a comfortable ride with standard features like power steering, brakes, and windows, but was less luxurious than the higher trims. \n",
      "* **SE (Special Edition):**  Step up from the LE with some added features, often including a sunroof, upgraded interior trim, and possibly a different wheel design.\n",
      "* **LSE (Luxury Special Edition):**  A further upgrade from the SE. It typically had even more luxurious features like leather seats, a premium sound system, and maybe even a driver's seat memory function.\n",
      "* **SSE (Sport Special Edition):**  This is where things get interesting.  The SSE was the sportier version of the Bonneville.  It had a firmer suspension, a more powerful engine (usually the 3.8L V6 with a higher horsepower rating), and sometimes came with a sport-tuned exhaust for a more aggressive sound. You'll often find the SSE with a distinctive \"S\" badge on the rear end. \n",
      "* **SSEi (Sport Special Edition - Injection):** This trim was similar to the SSE, but utilized fuel injection technology for better fuel economy and performance.  \n",
      "* **Other Notable Options:**  Some Bonnevilles also had special editions or packages available, like the \"California Edition\" which offered unique styling and trim details.\n",
      "\n",
      "**Value and Demand**\n",
      "\n",
      "* **Book Value:**  Websites like Kelley Blue Book (KBB) and Edmunds can give you a good estimate of book value.  They take into account year, mileage, condition, and trim level.\n",
      "* **Negotiation:** You can often negotiate a price below book value, especially if the car has higher mileage or needs some repairs.\n",
      "* **Timing:** You are right that spring and early summer are generally good times to buy.  Dealerships might be more motivated to move inventory before the busy summer season.\n",
      "* **Demand:** 88-89 Bonnevilles are not considered highly collectible or in high demand. Their value will largely depend on their condition, mileage, and trim level.\n",
      "\n",
      "**Important Considerations**\n",
      "\n",
      "* **Condition:**  The car's condition is the biggest factor influencing its value. A well-maintained car with low mileage will command a higher price than one with significant wear and tear.\n",
      "* **Maintenance:** These cars are getting older, so you'll need to be prepared for potential repairs. Research common issues and factor in the cost of maintenance.\n",
      "* **Parts Availability:**  Finding parts for older Bonnevilles can be a bit more challenging than newer models, but many parts are still readily available from online retailers and specialty shops.\n",
      "\n",
      "**Tips for Finding a Good Deal:**\n",
      "\n",
      "* **Check multiple resources:** Compare prices on KBB, Edmunds, and even local classifieds.\n",
      "* **Be realistic:**  Don't expect to find a pristine, low-mileage Bonneville for a bargain price.\n",
      "* **Take a test drive:**  Make sure the car runs smoothly and has no major issues.\n",
      "* **Get an inspection:**  Have a trusted mechanic inspect the car before making a purchase.\n",
      "\n",
      "I hope this breakdown is helpful! Let me know if you have any more questions. \n",
      "\n"
     ]
    }
   ],
   "source": [
    "baseline_model = genai.GenerativeModel(\"gemini-1.5-flash-001\")\n",
    "response = baseline_model.generate_content(sample_row)\n",
    "print(response.text)"
   ]
  },
  {
   "cell_type": "markdown",
   "id": "8b4a42af",
   "metadata": {
    "papermill": {
     "duration": 0.008731,
     "end_time": "2024-11-25T04:48:08.257775",
     "exception": false,
     "start_time": "2024-11-25T04:48:08.249044",
     "status": "completed"
    },
    "tags": []
   },
   "source": [
    "You can use the prompt engineering techniques you have learned this week to induce the model to perform the desired task. Try some of your own ideas and see what is effective, or check out the following cells for different approaches. Note that they have different levels of effectiveness!"
   ]
  },
  {
   "cell_type": "code",
   "execution_count": 13,
   "id": "b3bda39f",
   "metadata": {
    "execution": {
     "iopub.execute_input": "2024-11-25T04:48:08.277737Z",
     "iopub.status.busy": "2024-11-25T04:48:08.277332Z",
     "iopub.status.idle": "2024-11-25T04:48:09.028194Z",
     "shell.execute_reply": "2024-11-25T04:48:09.026726Z"
    },
    "papermill": {
     "duration": 0.764161,
     "end_time": "2024-11-25T04:48:09.031109",
     "exception": false,
     "start_time": "2024-11-25T04:48:08.266948",
     "status": "completed"
    },
    "tags": []
   },
   "outputs": [
    {
     "name": "stdout",
     "output_type": "stream",
     "text": [
      "Based on the content and style of the message, it is most likely from a **Buick-specific newsgroup**, such as:\n",
      "\n",
      "* **alt.autos.buick**\n",
      "* **rec.autos.buick**\n",
      "\n",
      "These newsgroups are dedicated to discussing Buick vehicles, making them a natural place for someone to ask about specific models and pricing information. \n",
      "\n"
     ]
    }
   ],
   "source": [
    "# Ask the model directly in a zero-shot prompt.\n",
    "\n",
    "prompt = \"From what newsgroup does the following message originate?\"\n",
    "baseline_response = baseline_model.generate_content([prompt, sample_row])\n",
    "print(baseline_response.text)"
   ]
  },
  {
   "cell_type": "markdown",
   "id": "bbb8fd9c",
   "metadata": {
    "papermill": {
     "duration": 0.010114,
     "end_time": "2024-11-25T04:48:09.050789",
     "exception": false,
     "start_time": "2024-11-25T04:48:09.040675",
     "status": "completed"
    },
    "tags": []
   },
   "source": [
    "That technique produces quite a verbose response. You could try and pick out the relevant text, or refine the prompt even further."
   ]
  },
  {
   "cell_type": "code",
   "execution_count": 14,
   "id": "f7785f70",
   "metadata": {
    "execution": {
     "iopub.execute_input": "2024-11-25T04:48:09.071107Z",
     "iopub.status.busy": "2024-11-25T04:48:09.070648Z",
     "iopub.status.idle": "2024-11-25T04:48:09.493788Z",
     "shell.execute_reply": "2024-11-25T04:48:09.492391Z"
    },
    "papermill": {
     "duration": 0.436169,
     "end_time": "2024-11-25T04:48:09.496255",
     "exception": false,
     "start_time": "2024-11-25T04:48:09.060086",
     "status": "completed"
    },
    "tags": []
   },
   "outputs": [
    {
     "name": "stdout",
     "output_type": "stream",
     "text": [
      "rec.autos.misc\n",
      "\n",
      "Incorrect.\n"
     ]
    }
   ],
   "source": [
    "from google.api_core import retry\n",
    "\n",
    "# You can use a system instruction to do more direct prompting, and get a\n",
    "# more succinct answer.\n",
    "\n",
    "system_instruct = \"\"\"\n",
    "You are a classification service. You will be passed input that represents\n",
    "a newsgroup post and you must respond with the newsgroup from which the post\n",
    "originates.\n",
    "\"\"\"\n",
    "\n",
    "instructed_model = genai.GenerativeModel(\"gemini-1.5-flash-001\",\n",
    "                                         system_instruction=system_instruct)\n",
    "\n",
    "retry_policy = {\"retry\": retry.Retry(predicate=retry.if_transient_error)}\n",
    "\n",
    "# If you want to evaluate your own technique, replace this function with your\n",
    "# model, prompt and other code and return the predicted answer.\n",
    "def predict_label(post: str) -> str:\n",
    "    response = instructed_model.generate_content(post, request_options=retry_policy)\n",
    "    rc = response.candidates[0]\n",
    "\n",
    "    # Any errors, filters, recitation, etc we can mark as a general error\n",
    "    if rc.finish_reason.name != \"STOP\":\n",
    "        return \"(error)\"\n",
    "    else:\n",
    "        # Clean up the response.\n",
    "        return response.text.strip()\n",
    "\n",
    "\n",
    "prediction = predict_label(sample_row)\n",
    "\n",
    "print(prediction)\n",
    "print()\n",
    "print(\"Correct!\" if prediction == sample_label else \"Incorrect.\")"
   ]
  },
  {
   "cell_type": "markdown",
   "id": "c75f6aa2",
   "metadata": {
    "papermill": {
     "duration": 0.00911,
     "end_time": "2024-11-25T04:48:09.517025",
     "exception": false,
     "start_time": "2024-11-25T04:48:09.507915",
     "status": "completed"
    },
    "tags": []
   },
   "source": [
    "Now run a short evaluation using the function defined above. The test set is further sampled to ensure the experiment runs smoothly on the API's free tier. In practice you would evaluate over the whole set."
   ]
  },
  {
   "cell_type": "code",
   "execution_count": 15,
   "id": "a25870b0",
   "metadata": {
    "execution": {
     "iopub.execute_input": "2024-11-25T04:48:09.537524Z",
     "iopub.status.busy": "2024-11-25T04:48:09.537098Z",
     "iopub.status.idle": "2024-11-25T04:48:43.395109Z",
     "shell.execute_reply": "2024-11-25T04:48:43.394039Z"
    },
    "papermill": {
     "duration": 33.871058,
     "end_time": "2024-11-25T04:48:43.397522",
     "exception": false,
     "start_time": "2024-11-25T04:48:09.526464",
     "status": "completed"
    },
    "tags": []
   },
   "outputs": [
    {
     "data": {
      "application/vnd.jupyter.widget-view+json": {
       "model_id": "478dccdb06ad473cab142c4f6f12d397",
       "version_major": 2,
       "version_minor": 0
      },
      "text/plain": [
       "Output()"
      ]
     },
     "metadata": {},
     "output_type": "display_data"
    },
    {
     "name": "stderr",
     "output_type": "stream",
     "text": [
      "/opt/conda/lib/python3.10/site-packages/tqdm/std.py:885: TqdmExperimentalWarning: rich is experimental/alpha\n",
      "  t = cls(total=total, **tqdm_kwargs)\n"
     ]
    },
    {
     "data": {
      "text/html": [
       "<pre style=\"white-space:pre;overflow-x:auto;line-height:normal;font-family:Menlo,'DejaVu Sans Mono',consolas,'Courier New',monospace\"></pre>\n"
      ],
      "text/plain": []
     },
     "metadata": {},
     "output_type": "display_data"
    },
    {
     "data": {
      "text/html": [
       "<pre style=\"white-space:pre;overflow-x:auto;line-height:normal;font-family:Menlo,'DejaVu Sans Mono',consolas,'Courier New',monospace\">\n",
       "</pre>\n"
      ],
      "text/plain": [
       "\n"
      ]
     },
     "metadata": {},
     "output_type": "display_data"
    },
    {
     "name": "stdout",
     "output_type": "stream",
     "text": [
      "Accuracy: 12.50%\n"
     ]
    }
   ],
   "source": [
    "from tqdm.rich import tqdm\n",
    "\n",
    "tqdm.pandas()\n",
    "\n",
    "\n",
    "# Further sample the test data to be mindful of the free-tier quota.\n",
    "df_baseline_eval = sample_data(df_test, 2, '.*')\n",
    "\n",
    "# Make predictions using the sampled data.\n",
    "df_baseline_eval['Prediction'] = df_baseline_eval['Text'].progress_apply(predict_label)\n",
    "\n",
    "# And calculate the accuracy.\n",
    "accuracy = (df_baseline_eval[\"Class Name\"] == df_baseline_eval[\"Prediction\"]).sum() / len(df_baseline_eval)\n",
    "print(f\"Accuracy: {accuracy:.2%}\")"
   ]
  },
  {
   "cell_type": "markdown",
   "id": "05ce1654",
   "metadata": {
    "papermill": {
     "duration": 0.013991,
     "end_time": "2024-11-25T04:48:43.425615",
     "exception": false,
     "start_time": "2024-11-25T04:48:43.411624",
     "status": "completed"
    },
    "tags": []
   },
   "source": [
    "Now take a look at the dataframe to compare the predictions with the labels."
   ]
  },
  {
   "cell_type": "code",
   "execution_count": 16,
   "id": "7c3a2573",
   "metadata": {
    "execution": {
     "iopub.execute_input": "2024-11-25T04:48:44.548763Z",
     "iopub.status.busy": "2024-11-25T04:48:44.548438Z",
     "iopub.status.idle": "2024-11-25T04:48:44.562435Z",
     "shell.execute_reply": "2024-11-25T04:48:44.561050Z"
    },
    "papermill": {
     "duration": 1.125175,
     "end_time": "2024-11-25T04:48:44.564849",
     "exception": false,
     "start_time": "2024-11-25T04:48:43.439674",
     "status": "completed"
    },
    "tags": []
   },
   "outputs": [
    {
     "data": {
      "text/html": [
       "<div>\n",
       "<style scoped>\n",
       "    .dataframe tbody tr th:only-of-type {\n",
       "        vertical-align: middle;\n",
       "    }\n",
       "\n",
       "    .dataframe tbody tr th {\n",
       "        vertical-align: top;\n",
       "    }\n",
       "\n",
       "    .dataframe thead th {\n",
       "        text-align: right;\n",
       "    }\n",
       "</style>\n",
       "<table border=\"1\" class=\"dataframe\">\n",
       "  <thead>\n",
       "    <tr style=\"text-align: right;\">\n",
       "      <th></th>\n",
       "      <th>Text</th>\n",
       "      <th>Label</th>\n",
       "      <th>Class Name</th>\n",
       "      <th>Prediction</th>\n",
       "    </tr>\n",
       "  </thead>\n",
       "  <tbody>\n",
       "    <tr>\n",
       "      <th>0</th>\n",
       "      <td>Re: Toyota Land Cruiser worth it?\\n\\n (Tom Ver...</td>\n",
       "      <td>7</td>\n",
       "      <td>rec.autos</td>\n",
       "      <td>rec.autos.toyota</td>\n",
       "    </tr>\n",
       "    <tr>\n",
       "      <th>1</th>\n",
       "      <td>WANTED: '92 Toyota Previa All-Trac, Low Miles\\...</td>\n",
       "      <td>7</td>\n",
       "      <td>rec.autos</td>\n",
       "      <td>rec.autos.toyota</td>\n",
       "    </tr>\n",
       "    <tr>\n",
       "      <th>2</th>\n",
       "      <td>Re: Looking for MOVIES w/ BIKES\\n\\n\\nKnight Ri...</td>\n",
       "      <td>8</td>\n",
       "      <td>rec.motorcycles</td>\n",
       "      <td>rec.motorcycles</td>\n",
       "    </tr>\n",
       "    <tr>\n",
       "      <th>3</th>\n",
       "      <td>Re: Traffic morons\\n\\nIn article &lt;&gt;  (John Sta...</td>\n",
       "      <td>8</td>\n",
       "      <td>rec.motorcycles</td>\n",
       "      <td>misc.legal</td>\n",
       "    </tr>\n",
       "    <tr>\n",
       "      <th>4</th>\n",
       "      <td>No No Box\\n\\n\\n\\nBOSTON (0) AT SEATTLE (7)\\n \\...</td>\n",
       "      <td>9</td>\n",
       "      <td>rec.sport.baseball</td>\n",
       "      <td>rec.sport.baseball.mlb</td>\n",
       "    </tr>\n",
       "    <tr>\n",
       "      <th>5</th>\n",
       "      <td>Re: USA McWeekly Stats\\n &lt;&gt;\\n &lt;&gt;\\n\\nIn article...</td>\n",
       "      <td>9</td>\n",
       "      <td>rec.sport.baseball</td>\n",
       "      <td>rec.sports.baseball.misc</td>\n",
       "    </tr>\n",
       "    <tr>\n",
       "      <th>6</th>\n",
       "      <td>HABS TIE SERIES AT 2 !!!!!!!\\n\\nYAHOOOOOOOOO!\\...</td>\n",
       "      <td>10</td>\n",
       "      <td>rec.sport.hockey</td>\n",
       "      <td>rec.hockey</td>\n",
       "    </tr>\n",
       "    <tr>\n",
       "      <th>7</th>\n",
       "      <td>Re: ESPN UP YOURS .........\\n\\nActually, I was...</td>\n",
       "      <td>10</td>\n",
       "      <td>rec.sport.hockey</td>\n",
       "      <td>rec.sport.hockey</td>\n",
       "    </tr>\n",
       "    <tr>\n",
       "      <th>8</th>\n",
       "      <td>Re: Crypto papers on the net.\\n\\nIn &lt;&gt;  (John ...</td>\n",
       "      <td>11</td>\n",
       "      <td>sci.crypt</td>\n",
       "      <td>(error)</td>\n",
       "    </tr>\n",
       "    <tr>\n",
       "      <th>9</th>\n",
       "      <td>Re: Does Rush read his E-mail?\\n\\nIn article &lt;...</td>\n",
       "      <td>11</td>\n",
       "      <td>sci.crypt</td>\n",
       "      <td>alt.talk.politics.conservatism</td>\n",
       "    </tr>\n",
       "    <tr>\n",
       "      <th>10</th>\n",
       "      <td>Re: Acceleration sensor?\\n\\n\\nIn article ,   (...</td>\n",
       "      <td>12</td>\n",
       "      <td>sci.electronics</td>\n",
       "      <td>comp.sys.ibm.pc.hardware</td>\n",
       "    </tr>\n",
       "    <tr>\n",
       "      <th>11</th>\n",
       "      <td>Re: Pink Noise\\n\\nTony Wayne writes:\\n\\n&gt;What ...</td>\n",
       "      <td>12</td>\n",
       "      <td>sci.electronics</td>\n",
       "      <td>rec.audio.music.electronic</td>\n",
       "    </tr>\n",
       "    <tr>\n",
       "      <th>12</th>\n",
       "      <td>Drop your drawers and the doctor will see you\\...</td>\n",
       "      <td>13</td>\n",
       "      <td>sci.med</td>\n",
       "      <td>talk.politics.guns</td>\n",
       "    </tr>\n",
       "    <tr>\n",
       "      <th>13</th>\n",
       "      <td>Miscelaneous soon-to-have-baby questions\\n\\nWe...</td>\n",
       "      <td>13</td>\n",
       "      <td>sci.med</td>\n",
       "      <td>alt.baby.newborn</td>\n",
       "    </tr>\n",
       "    <tr>\n",
       "      <th>14</th>\n",
       "      <td>temperature of the dark sky\\n\\nDoes anyone hav...</td>\n",
       "      <td>14</td>\n",
       "      <td>sci.space</td>\n",
       "      <td>sci.astro</td>\n",
       "    </tr>\n",
       "    <tr>\n",
       "      <th>15</th>\n",
       "      <td>Re: Gamma Ray Bursters.  WHere  are they.\\n\\n\\...</td>\n",
       "      <td>14</td>\n",
       "      <td>sci.space</td>\n",
       "      <td>sci.astro</td>\n",
       "    </tr>\n",
       "  </tbody>\n",
       "</table>\n",
       "</div>"
      ],
      "text/plain": [
       "                                                 Text  Label  \\\n",
       "0   Re: Toyota Land Cruiser worth it?\\n\\n (Tom Ver...      7   \n",
       "1   WANTED: '92 Toyota Previa All-Trac, Low Miles\\...      7   \n",
       "2   Re: Looking for MOVIES w/ BIKES\\n\\n\\nKnight Ri...      8   \n",
       "3   Re: Traffic morons\\n\\nIn article <>  (John Sta...      8   \n",
       "4   No No Box\\n\\n\\n\\nBOSTON (0) AT SEATTLE (7)\\n \\...      9   \n",
       "5   Re: USA McWeekly Stats\\n <>\\n <>\\n\\nIn article...      9   \n",
       "6   HABS TIE SERIES AT 2 !!!!!!!\\n\\nYAHOOOOOOOOO!\\...     10   \n",
       "7   Re: ESPN UP YOURS .........\\n\\nActually, I was...     10   \n",
       "8   Re: Crypto papers on the net.\\n\\nIn <>  (John ...     11   \n",
       "9   Re: Does Rush read his E-mail?\\n\\nIn article <...     11   \n",
       "10  Re: Acceleration sensor?\\n\\n\\nIn article ,   (...     12   \n",
       "11  Re: Pink Noise\\n\\nTony Wayne writes:\\n\\n>What ...     12   \n",
       "12  Drop your drawers and the doctor will see you\\...     13   \n",
       "13  Miscelaneous soon-to-have-baby questions\\n\\nWe...     13   \n",
       "14  temperature of the dark sky\\n\\nDoes anyone hav...     14   \n",
       "15  Re: Gamma Ray Bursters.  WHere  are they.\\n\\n\\...     14   \n",
       "\n",
       "            Class Name                      Prediction  \n",
       "0            rec.autos                rec.autos.toyota  \n",
       "1            rec.autos                rec.autos.toyota  \n",
       "2      rec.motorcycles                 rec.motorcycles  \n",
       "3      rec.motorcycles                      misc.legal  \n",
       "4   rec.sport.baseball          rec.sport.baseball.mlb  \n",
       "5   rec.sport.baseball        rec.sports.baseball.misc  \n",
       "6     rec.sport.hockey                      rec.hockey  \n",
       "7     rec.sport.hockey                rec.sport.hockey  \n",
       "8            sci.crypt                         (error)  \n",
       "9            sci.crypt  alt.talk.politics.conservatism  \n",
       "10     sci.electronics        comp.sys.ibm.pc.hardware  \n",
       "11     sci.electronics      rec.audio.music.electronic  \n",
       "12             sci.med              talk.politics.guns  \n",
       "13             sci.med                alt.baby.newborn  \n",
       "14           sci.space                       sci.astro  \n",
       "15           sci.space                       sci.astro  "
      ]
     },
     "execution_count": 16,
     "metadata": {},
     "output_type": "execute_result"
    }
   ],
   "source": [
    "df_baseline_eval"
   ]
  },
  {
   "cell_type": "markdown",
   "id": "9330dfcd",
   "metadata": {
    "id": "Ok7ugrLzcghX",
    "papermill": {
     "duration": 0.010051,
     "end_time": "2024-11-25T04:48:44.585388",
     "exception": false,
     "start_time": "2024-11-25T04:48:44.575337",
     "status": "completed"
    },
    "tags": []
   },
   "source": [
    "## Tune a custom model\n",
    "\n",
    "In this example you'll use tuning to help create a model that requires no prompting or system instructions and outputs succinct text from the classes you provide in the training data.\n",
    "\n",
    "The data contains both input text (the processed posts) and output text (the category, or newsgroup), which you can use to start tuning a model.\n",
    "\n",
    "The Python SDK for tuning supports Pandas dataframes as input, so you don't need any custom data generators or pipelines. Just specify the input and the relevant columns as the `input_key` and `output_key`.\n",
    "\n",
    "When calling `create_tuned_model`, you can specify model tuning hyperparameters too:\n",
    " - `epoch_count`: defines how many times to loop through the data,\n",
    " - `batch_size`: defines how many rows to process in a single step, and\n",
    " - `learning_rate`: defines the scaling factor for updating model weights at each step.\n",
    "\n",
    "You can also choose to omit them and use the defaults. [Learn more](https://developers.google.com/machine-learning/crash-course/linear-regression/hyperparameters) about these parameters and how they work. For this example these parameters were selected by running some tuning jobs and selecting parameters that were both effective and quick."
   ]
  },
  {
   "cell_type": "code",
   "execution_count": 17,
   "id": "2165219e",
   "metadata": {
    "execution": {
     "iopub.execute_input": "2024-11-25T04:48:44.609127Z",
     "iopub.status.busy": "2024-11-25T04:48:44.607837Z",
     "iopub.status.idle": "2024-11-25T04:48:45.810051Z",
     "shell.execute_reply": "2024-11-25T04:48:45.808597Z"
    },
    "id": "pWOZlspfY8dV",
    "papermill": {
     "duration": 1.216729,
     "end_time": "2024-11-25T04:48:45.812616",
     "exception": false,
     "start_time": "2024-11-25T04:48:44.595887",
     "status": "completed"
    },
    "tags": []
   },
   "outputs": [
    {
     "name": "stdout",
     "output_type": "stream",
     "text": [
      "newsgroup-classifier-23715\n"
     ]
    }
   ],
   "source": [
    "from collections.abc import Iterable\n",
    "import random\n",
    "\n",
    "\n",
    "# Append a random number to the model ID so you can re-run with a higher chance\n",
    "# of creating a unique model ID.\n",
    "model_id = f\"newsgroup-classifier-{random.randint(10000, 99999)}\"\n",
    "\n",
    "# Upload the training data and queue the tuning job.\n",
    "tuning_op = genai.create_tuned_model(\n",
    "    \"models/gemini-1.5-flash-001-tuning\",\n",
    "    training_data=df_train,\n",
    "    input_key=\"Text\",  # the column to use as input\n",
    "    output_key=\"Class Name\",  # the column to use as output\n",
    "    id=model_id,\n",
    "    display_name=\"Newsgroup classification model\",\n",
    "    batch_size=16,\n",
    "    epoch_count=2,\n",
    ")\n",
    "\n",
    "print(model_id)"
   ]
  },
  {
   "cell_type": "markdown",
   "id": "5e2ad7d0",
   "metadata": {
    "id": "NQ3YZ2MBubCY",
    "papermill": {
     "duration": 0.00997,
     "end_time": "2024-11-25T04:48:45.833142",
     "exception": false,
     "start_time": "2024-11-25T04:48:45.823172",
     "status": "completed"
    },
    "tags": []
   },
   "source": [
    "This has created a tuning job that will run in the background. To inspect the progress of the tuning job, run this cell to plot the current status and loss curve. Once the status reaches `ACTIVE`, tuning is complete and the model is ready to use.\n",
    "\n",
    "Tuning jobs are queued, so it may look like no training steps have been taken initially but it will progress. Tuning can take upwards of 20 minutes, depending on factors like your dataset size and how busy the tuning infrastrature is. Why not treat yourself to a nice cup of tea while you wait, or come and say \"Hi!\" to [yours truly](https://discord.com/users/132124213132787712) in the group [Discord](https://discord.com/invite/kaggle).\n",
    "\n",
    "It is safe to stop this cell at any point. It will not stop the tuning job."
   ]
  },
  {
   "cell_type": "code",
   "execution_count": 18,
   "id": "935d27ca",
   "metadata": {
    "execution": {
     "iopub.execute_input": "2024-11-25T04:48:45.856055Z",
     "iopub.status.busy": "2024-11-25T04:48:45.855040Z",
     "iopub.status.idle": "2024-11-25T04:52:48.596963Z",
     "shell.execute_reply": "2024-11-25T04:52:48.595609Z"
    },
    "id": "c4ef5f13692d",
    "papermill": {
     "duration": 242.756286,
     "end_time": "2024-11-25T04:52:48.599622",
     "exception": false,
     "start_time": "2024-11-25T04:48:45.843336",
     "status": "completed"
    },
    "tags": []
   },
   "outputs": [
    {
     "name": "stdout",
     "output_type": "stream",
     "text": [
      "State.CREATING\n",
      "State.CREATING\n",
      "State.CREATING\n",
      "State.CREATING\n",
      "Done! The model is ACTIVE\n"
     ]
    },
    {
     "name": "stderr",
     "output_type": "stream",
     "text": [
      "/opt/conda/lib/python3.10/site-packages/seaborn/_oldcore.py:1119: FutureWarning: use_inf_as_na option is deprecated and will be removed in a future version. Convert inf values to NaN before operating instead.\n",
      "  with pd.option_context('mode.use_inf_as_na', True):\n",
      "/opt/conda/lib/python3.10/site-packages/seaborn/_oldcore.py:1119: FutureWarning: use_inf_as_na option is deprecated and will be removed in a future version. Convert inf values to NaN before operating instead.\n",
      "  with pd.option_context('mode.use_inf_as_na', True):\n"
     ]
    },
    {
     "data": {
      "text/plain": [
       "<Axes: xlabel='step', ylabel='mean_loss'>"
      ]
     },
     "execution_count": 18,
     "metadata": {},
     "output_type": "execute_result"
    },
    {
     "data": {
      "image/png": "[encoded data removed]",
      "text/plain": [
       "<Figure size 640x480 with 1 Axes>"
      ]
     },
     "metadata": {},
     "output_type": "display_data"
    }
   ],
   "source": [
    "import time\n",
    "import seaborn as sns\n",
    "\n",
    "\n",
    "while (tuned_model := genai.get_tuned_model(f\"tunedModels/{model_id}\")).state.name != 'ACTIVE':\n",
    "\n",
    "    print(tuned_model.state)\n",
    "    time.sleep(60)\n",
    "\n",
    "print(f\"Done! The model is {tuned_model.state.name}\")\n",
    "\n",
    "# Plot the loss curve.\n",
    "snapshots = pd.DataFrame(tuned_model.tuning_task.snapshots)\n",
    "sns.lineplot(data=snapshots, x=\"step\", y=\"mean_loss\")\n"
   ]
  },
  {
   "cell_type": "markdown",
   "id": "8554bfca",
   "metadata": {
    "id": "9-qiIdK4u80z",
    "papermill": {
     "duration": 0.011851,
     "end_time": "2024-11-25T04:52:48.623314",
     "exception": false,
     "start_time": "2024-11-25T04:52:48.611463",
     "status": "completed"
    },
    "tags": []
   },
   "source": [
    "Note that the `seaborn` module may output warnings containing `FutureWarning: use_inf_as_na option is deprecated`. These are expected and can be ignored."
   ]
  },
  {
   "cell_type": "markdown",
   "id": "6701d7e2",
   "metadata": {
    "id": "9-qiIdK4u80z",
    "papermill": {
     "duration": 0.010898,
     "end_time": "2024-11-25T04:52:48.647053",
     "exception": false,
     "start_time": "2024-11-25T04:52:48.636155",
     "status": "completed"
    },
    "tags": []
   },
   "source": [
    "## Use the new model\n",
    "\n",
    "Now that you have a tuned model, try it out with custom data. You use the same API as a normal Gemini API interaction, but you specify your new model as the model name, using the `tunedModels/` prefix."
   ]
  },
  {
   "cell_type": "code",
   "execution_count": 19,
   "id": "05d45973",
   "metadata": {
    "execution": {
     "iopub.execute_input": "2024-11-25T04:52:48.673867Z",
     "iopub.status.busy": "2024-11-25T04:52:48.673297Z",
     "iopub.status.idle": "2024-11-25T04:52:58.170060Z",
     "shell.execute_reply": "2024-11-25T04:52:58.168689Z"
    },
    "id": "hyO2-MXLvM6a",
    "papermill": {
     "duration": 9.512571,
     "end_time": "2024-11-25T04:52:58.172720",
     "exception": false,
     "start_time": "2024-11-25T04:52:48.660149",
     "status": "completed"
    },
    "tags": []
   },
   "outputs": [
    {
     "name": "stdout",
     "output_type": "stream",
     "text": [
      "sci.space\n"
     ]
    }
   ],
   "source": [
    "your_model = genai.GenerativeModel(f\"tunedModels/{model_id}\")\n",
    "\n",
    "new_text = \"\"\"\n",
    "First-timer looking to get out of here.\n",
    "\n",
    "Hi, I'm writing about my interest in travelling to the outer limits!\n",
    "\n",
    "What kind of craft can I buy? What is easiest to access from this 3rd rock?\n",
    "\n",
    "Let me know how to do that please.\n",
    "\"\"\"\n",
    "\n",
    "response = your_model.generate_content(new_text)\n",
    "print(response.text)"
   ]
  },
  {
   "cell_type": "markdown",
   "id": "989450a5",
   "metadata": {
    "id": "xajLek9DySH_",
    "papermill": {
     "duration": 0.011637,
     "end_time": "2024-11-25T04:52:58.196163",
     "exception": false,
     "start_time": "2024-11-25T04:52:58.184526",
     "status": "completed"
    },
    "tags": []
   },
   "source": [
    "### Evaluation\n",
    "\n",
    "You can see that the model outputs labels that correspond to those in the training data, and without any system instructions or prompting, which is already a great improvement. Now see how well it performs on the test set.\n",
    "\n",
    "Note that there is no parallelism in this example; classifying the test sub-set will take a few minutes."
   ]
  },
  {
   "cell_type": "code",
   "execution_count": 20,
   "id": "35fd673c",
   "metadata": {
    "execution": {
     "iopub.execute_input": "2024-11-25T04:52:58.220964Z",
     "iopub.status.busy": "2024-11-25T04:52:58.220584Z",
     "iopub.status.idle": "2024-11-25T04:54:29.955417Z",
     "shell.execute_reply": "2024-11-25T04:54:29.954051Z"
    },
    "id": "6T2Y3ZApvbMw",
    "papermill": {
     "duration": 91.74997,
     "end_time": "2024-11-25T04:54:29.957833",
     "exception": false,
     "start_time": "2024-11-25T04:52:58.207863",
     "status": "completed"
    },
    "tags": []
   },
   "outputs": [
    {
     "data": {
      "application/vnd.jupyter.widget-view+json": {
       "model_id": "8aa0f42642e94bfb94c74d918fa2e5a0",
       "version_major": 2,
       "version_minor": 0
      },
      "text/plain": [
       "Output()"
      ]
     },
     "metadata": {},
     "output_type": "display_data"
    },
    {
     "name": "stderr",
     "output_type": "stream",
     "text": [
      "/opt/conda/lib/python3.10/site-packages/tqdm/std.py:885: TqdmExperimentalWarning: rich is experimental/alpha\n",
      "  t = cls(total=total, **tqdm_kwargs)\n"
     ]
    },
    {
     "data": {
      "text/html": [
       "<pre style=\"white-space:pre;overflow-x:auto;line-height:normal;font-family:Menlo,'DejaVu Sans Mono',consolas,'Courier New',monospace\"></pre>\n"
      ],
      "text/plain": []
     },
     "metadata": {},
     "output_type": "display_data"
    },
    {
     "data": {
      "text/html": [
       "<pre style=\"white-space:pre;overflow-x:auto;line-height:normal;font-family:Menlo,'DejaVu Sans Mono',consolas,'Courier New',monospace\">\n",
       "</pre>\n"
      ],
      "text/plain": [
       "\n"
      ]
     },
     "metadata": {},
     "output_type": "display_data"
    },
    {
     "name": "stdout",
     "output_type": "stream",
     "text": [
      "Accuracy: 93.75%\n"
     ]
    }
   ],
   "source": [
    "def classify_text(text: str) -> str:\n",
    "    \"\"\"Classify the provided text into a known newsgroup.\"\"\"\n",
    "    response = your_model.generate_content(text, request_options=retry_policy)\n",
    "    rc = response.candidates[0]\n",
    "\n",
    "    # Any errors, filters, recitation, etc we can mark as a general error\n",
    "    if rc.finish_reason.name != \"STOP\":\n",
    "        return \"(error)\"\n",
    "    else:\n",
    "        return rc.content.parts[0].text\n",
    "\n",
    "\n",
    "# The sampling here is just to minimise your quota usage. If you can, you should\n",
    "# evaluate the whole test set with `df_model_eval = df_test.copy()`.\n",
    "df_model_eval = sample_data(df_test, 4, '.*')\n",
    "\n",
    "\n",
    "df_model_eval[\"Prediction\"] = df_model_eval[\"Text\"].progress_apply(classify_text)\n",
    "\n",
    "accuracy = (df_model_eval[\"Class Name\"] == df_model_eval[\"Prediction\"]).sum() / len(df_model_eval)\n",
    "print(f\"Accuracy: {accuracy:.2%}\")"
   ]
  },
  {
   "cell_type": "markdown",
   "id": "1a07627b",
   "metadata": {
    "papermill": {
     "duration": 0.015898,
     "end_time": "2024-11-25T04:54:29.991150",
     "exception": false,
     "start_time": "2024-11-25T04:54:29.975252",
     "status": "completed"
    },
    "tags": []
   },
   "source": [
    "## Compare token usage\n",
    "\n",
    "AI Studio and the Gemini API provide model tuning at no cost, however normal limits and charges apply for *use* of a tuned model.\n",
    "\n",
    "The size of the input prompt and other generation config like system instructions, as well as the number of generated output tokens, all contribute to the overall cost of a request."
   ]
  },
  {
   "cell_type": "code",
   "execution_count": 21,
   "id": "5d046899",
   "metadata": {
    "execution": {
     "iopub.execute_input": "2024-11-25T04:54:33.001748Z",
     "iopub.status.busy": "2024-11-25T04:54:33.001478Z",
     "iopub.status.idle": "2024-11-25T04:54:33.373135Z",
     "shell.execute_reply": "2024-11-25T04:54:33.371926Z"
    },
    "papermill": {
     "duration": 3.369349,
     "end_time": "2024-11-25T04:54:33.375532",
     "exception": false,
     "start_time": "2024-11-25T04:54:30.006183",
     "status": "completed"
    },
    "tags": []
   },
   "outputs": [
    {
     "name": "stdout",
     "output_type": "stream",
     "text": [
      "System instructed baseline model: 171 (input)\n",
      "Tuned model: 135 (input)\n",
      "Token savings: 26.67%\n"
     ]
    }
   ],
   "source": [
    "# Calculate the *input* cost of the baseline model with system instructions.\n",
    "sysint_tokens = instructed_model.count_tokens(sample_row).total_tokens\n",
    "print(f'System instructed baseline model: {sysint_tokens} (input)')\n",
    "\n",
    "# Calculate the input cost of the tuned model.\n",
    "tuned_tokens = your_model.count_tokens(sample_row).total_tokens\n",
    "print(f'Tuned model: {tuned_tokens} (input)')\n",
    "\n",
    "savings = (sysint_tokens - tuned_tokens) / tuned_tokens\n",
    "print(f'Token savings: {savings:.2%}')  # Note that this is only n=1."
   ]
  },
  {
   "cell_type": "markdown",
   "id": "c4ef4562",
   "metadata": {
    "papermill": {
     "duration": 0.011658,
     "end_time": "2024-11-25T04:54:33.399769",
     "exception": false,
     "start_time": "2024-11-25T04:54:33.388111",
     "status": "completed"
    },
    "tags": []
   },
   "source": [
    "The earlier verbose model also produced more output tokens than needed for this task."
   ]
  },
  {
   "cell_type": "code",
   "execution_count": 22,
   "id": "258c411b",
   "metadata": {
    "execution": {
     "iopub.execute_input": "2024-11-25T04:54:33.425173Z",
     "iopub.status.busy": "2024-11-25T04:54:33.424741Z",
     "iopub.status.idle": "2024-11-25T04:54:34.383316Z",
     "shell.execute_reply": "2024-11-25T04:54:34.382050Z"
    },
    "papermill": {
     "duration": 0.97378,
     "end_time": "2024-11-25T04:54:34.385579",
     "exception": false,
     "start_time": "2024-11-25T04:54:33.411799",
     "status": "completed"
    },
    "tags": []
   },
   "outputs": [
    {
     "name": "stdout",
     "output_type": "stream",
     "text": [
      "Baseline (verbose) output tokens: 74\n",
      "Tuned output tokens: 4\n"
     ]
    }
   ],
   "source": [
    "baseline_token_output = baseline_response.usage_metadata.candidates_token_count\n",
    "print('Baseline (verbose) output tokens:', baseline_token_output)\n",
    "\n",
    "tuned_model_output = your_model.generate_content(sample_row)\n",
    "tuned_tokens_output = tuned_model_output.usage_metadata.candidates_token_count\n",
    "print('Tuned output tokens:', tuned_tokens_output)"
   ]
  },
  {
   "cell_type": "markdown",
   "id": "4475e56d",
   "metadata": {
    "id": "6c1204a5d0ab",
    "papermill": {
     "duration": 0.012071,
     "end_time": "2024-11-25T04:54:34.410485",
     "exception": false,
     "start_time": "2024-11-25T04:54:34.398414",
     "status": "completed"
    },
    "tags": []
   },
   "source": [
    "## Next steps\n",
    "\n",
    "Now that you have tuned a classification model, try some other tasks, like tuning a model to respond with a specific tone or style using hand-written examples (or even generated examples!). Kaggle hosts [a number of datasets](https://www.kaggle.com/datasets) you can try out.\n",
    "\n",
    "Learn about [when supervised fine-tuning is most effective](https://cloud.google.com/blog/products/ai-machine-learning/supervised-fine-tuning-for-gemini-llm).\n",
    "\n",
    "And check out the [fine-tuning tutorial](https://ai.google.dev/gemini-api/docs/model-tuning/tutorial?hl=en&lang=python) for another example that shows a tuned model extending beyond the training data to new, unseen inputs."
   ]
  }
 ],
 "metadata": {
  "colab": {
   "name": "day-4-fine-tuning-a-custom-model.ipynb",
   "toc_visible": true
  },
  "kaggle": {
   "accelerator": "none",
   "dataSources": [],
   "dockerImageVersionId": 30786,
   "isGpuEnabled": false,
   "isInternetEnabled": true,
   "language": "python",
   "sourceType": "notebook"
  },
  "kernelspec": {
   "display_name": "Python 3",
   "language": "python",
   "name": "python3"
  },
  "language_info": {
   "codemirror_mode": {
    "name": "ipython",
    "version": 3
   },
   "file_extension": ".py",
   "mimetype": "text/x-python",
   "name": "python",
   "nbconvert_exporter": "python",
   "pygments_lexer": "ipython3",
   "version": "3.10.14"
  },
  "papermill": {
   "default_parameters": {},
   "duration": 448.982176,
   "end_time": "2024-11-25T04:54:35.244688",
   "environment_variables": {},
   "exception": null,
   "input_path": "__notebook__.ipynb",
   "output_path": "__notebook__.ipynb",
   "parameters": {},
   "start_time": "2024-11-25T04:47:06.262512",
   "version": "2.6.0"
  },
  "widgets": {
   "application/vnd.jupyter.widget-state+json": {
    "state": {
     "478dccdb06ad473cab142c4f6f12d397": {
      "model_module": "@jupyter-widgets/output",
      "model_module_version": "1.0.0",
      "model_name": "OutputModel",
      "state": {
       "_dom_classes": [],
       "_model_module": "@jupyter-widgets/output",
       "_model_module_version": "1.0.0",
       "_model_name": "OutputModel",
       "_view_count": null,
       "_view_module": "@jupyter-widgets/output",
       "_view_module_version": "1.0.0",
       "_view_name": "OutputView",
       "layout": "IPY_MODEL_c825981cc239464b9bc38f30acb61abd",
       "msg_id": "",
       "outputs": [
        {
         "data": {
          "text/html": "<pre style=\"white-space:pre;overflow-x:auto;line-height:normal;font-family:Menlo,'DejaVu Sans Mono',consolas,'Courier New',monospace\"><span style=\"color: #800080; text-decoration-color: #800080\"> 100%</span> <span style=\"color: #729c1f; text-decoration-color: #729c1f\">━━━━━━━━━━━━━━━━━━━━━━━━━━━━━━━━━━━━━━━━━━━━━━━━━━━━━━━━━━━━━━━━━━━━━━━</span> <span style=\"color: #008000; text-decoration-color: #008000\">16/16 </span> [ <span style=\"color: #808000; text-decoration-color: #808000\">0:00:07</span> &lt; <span style=\"color: #008080; text-decoration-color: #008080\">0:00:00</span> , <span style=\"color: #800000; text-decoration-color: #800000\">2 it/s</span> ]\n</pre>\n",
          "text/plain": "\u001b[35m 100%\u001b[0m \u001b[38;2;114;156;31m━━━━━━━━━━━━━━━━━━━━━━━━━━━━━━━━━━━━━━━━━━━━━━━━━━━━━━━━━━━━━━━━━━━━━━━\u001b[0m \u001b[32m16/16 \u001b[0m [ \u001b[33m0:00:07\u001b[0m < \u001b[36m0:00:00\u001b[0m , \u001b[31m2 it/s\u001b[0m ]\n"
         },
         "metadata": {},
         "output_type": "display_data"
        }
       ]
      }
     },
     "8aa0f42642e94bfb94c74d918fa2e5a0": {
      "model_module": "@jupyter-widgets/output",
      "model_module_version": "1.0.0",
      "model_name": "OutputModel",
      "state": {
       "_dom_classes": [],
       "_model_module": "@jupyter-widgets/output",
       "_model_module_version": "1.0.0",
       "_model_name": "OutputModel",
       "_view_count": null,
       "_view_module": "@jupyter-widgets/output",
       "_view_module_version": "1.0.0",
       "_view_name": "OutputView",
       "layout": "IPY_MODEL_9e5e1fd71b2f4e358d0a783a32e8e6bc",
       "msg_id": "",
       "outputs": [
        {
         "data": {
          "text/html": "<pre style=\"white-space:pre;overflow-x:auto;line-height:normal;font-family:Menlo,'DejaVu Sans Mono',consolas,'Courier New',monospace\"><span style=\"color: #800080; text-decoration-color: #800080\"> 100%</span> <span style=\"color: #729c1f; text-decoration-color: #729c1f\">━━━━━━━━━━━━━━━━━━━━━━━━━━━━━━━━━━━━━━━━━━━━━━━━━━━━━━━━━━━━━━━━━━━━━━━</span> <span style=\"color: #008000; text-decoration-color: #008000\">32/32 </span> [ <span style=\"color: #808000; text-decoration-color: #808000\">0:01:30</span> &lt; <span style=\"color: #008080; text-decoration-color: #008080\">0:00:00</span> , <span style=\"color: #800000; text-decoration-color: #800000\">1 it/s</span> ]\n</pre>\n",
          "text/plain": "\u001b[35m 100%\u001b[0m \u001b[38;2;114;156;31m━━━━━━━━━━━━━━━━━━━━━━━━━━━━━━━━━━━━━━━━━━━━━━━━━━━━━━━━━━━━━━━━━━━━━━━\u001b[0m \u001b[32m32/32 \u001b[0m [ \u001b[33m0:01:30\u001b[0m < \u001b[36m0:00:00\u001b[0m , \u001b[31m1 it/s\u001b[0m ]\n"
         },
         "metadata": {},
         "output_type": "display_data"
        }
       ]
      }
     },
     "9e5e1fd71b2f4e358d0a783a32e8e6bc": {
      "model_module": "@jupyter-widgets/base",
      "model_module_version": "1.2.0",
      "model_name": "LayoutModel",
      "state": {
       "_model_module": "@jupyter-widgets/base",
       "_model_module_version": "1.2.0",
       "_model_name": "LayoutModel",
       "_view_count": null,
       "_view_module": "@jupyter-widgets/base",
       "_view_module_version": "1.2.0",
       "_view_name": "LayoutView",
       "align_content": null,
       "align_items": null,
       "align_self": null,
       "border": null,
       "bottom": null,
       "display": null,
       "flex": null,
       "flex_flow": null,
       "grid_area": null,
       "grid_auto_columns": null,
       "grid_auto_flow": null,
       "grid_auto_rows": null,
       "grid_column": null,
       "grid_gap": null,
       "grid_row": null,
       "grid_template_areas": null,
       "grid_template_columns": null,
       "grid_template_rows": null,
       "height": null,
       "justify_content": null,
       "justify_items": null,
       "left": null,
       "margin": null,
       "max_height": null,
       "max_width": null,
       "min_height": null,
       "min_width": null,
       "object_fit": null,
       "object_position": null,
       "order": null,
       "overflow": null,
       "overflow_x": null,
       "overflow_y": null,
       "padding": null,
       "right": null,
       "top": null,
       "visibility": null,
       "width": null
      }
     },
     "c825981cc239464b9bc38f30acb61abd": {
      "model_module": "@jupyter-widgets/base",
      "model_module_version": "1.2.0",
      "model_name": "LayoutModel",
      "state": {
       "_model_module": "@jupyter-widgets/base",
       "_model_module_version": "1.2.0",
       "_model_name": "LayoutModel",
       "_view_count": null,
       "_view_module": "@jupyter-widgets/base",
       "_view_module_version": "1.2.0",
       "_view_name": "LayoutView",
       "align_content": null,
       "align_items": null,
       "align_self": null,
       "border": null,
       "bottom": null,
       "display": null,
       "flex": null,
       "flex_flow": null,
       "grid_area": null,
       "grid_auto_columns": null,
       "grid_auto_flow": null,
       "grid_auto_rows": null,
       "grid_column": null,
       "grid_gap": null,
       "grid_row": null,
       "grid_template_areas": null,
       "grid_template_columns": null,
       "grid_template_rows": null,
       "height": null,
       "justify_content": null,
       "justify_items": null,
       "left": null,
       "margin": null,
       "max_height": null,
       "max_width": null,
       "min_height": null,
       "min_width": null,
       "object_fit": null,
       "object_position": null,
       "order": null,
       "overflow": null,
       "overflow_x": null,
       "overflow_y": null,
       "padding": null,
       "right": null,
       "top": null,
       "visibility": null,
       "width": null
      }
     }
    },
    "version_major": 2,
    "version_minor": 0
   }
  }
 },
 "nbformat": 4,
 "nbformat_minor": 5
}
